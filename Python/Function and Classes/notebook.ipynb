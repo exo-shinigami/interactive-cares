{
 "cells": [
  {
   "cell_type": "code",
   "execution_count": 1,
   "metadata": {},
   "outputs": [
    {
     "name": "stdout",
     "output_type": "stream",
     "text": [
      "Not prime\n"
     ]
    }
   ],
   "source": [
    "number = input('Enter a number: ')\n",
    "number = int(number)\n",
    "is_prime = True\n",
    "for i in range(2, number):\n",
    "        if number % i == 0:\n",
    "            is_prime = False\n",
    "            break\n",
    "\n",
    "if is_prime:\n",
    "    print('Prime')\n",
    "else:\n",
    "    print('Not prime')\n",
    "    \n",
    "\n",
    "\n"
   ]
  },
  {
   "cell_type": "code",
   "execution_count": 3,
   "metadata": {},
   "outputs": [
    {
     "name": "stdout",
     "output_type": "stream",
     "text": [
      "Sakib\n",
      "Munim is eligible to vote\n"
     ]
    }
   ],
   "source": [
    "# OOP in Python\n",
    "# Class -> Blueprint for objects\n",
    "#A class consists of attributes (Variables) and meathods (funtions)\n",
    "#Object -> Instance of a class\n",
    "#An object is created using the class blueprint \n",
    "#An object has attributes and meathods\n",
    "\n",
    "class Citizen:\n",
    "    def __init__(self, name, birth_date, NID):\n",
    "        self.name = name\n",
    "        self.birth_date = birth_date\n",
    "        self.NID = NID\n",
    "        self.age = 2024 - int(birth_date[-4:])\n",
    "\n",
    "    def is_eligible_to_vote(self):\n",
    "        return self.age >= 18\n",
    "\n",
    "munim = Citizen('Munim', '01-01-1990', '1234567890')\n",
    "sakib = Citizen('Sakib', '01-01-1990', '1234567891')\n",
    "\n",
    "print(sakib.name)\n",
    "\n",
    "if munim.is_eligible_to_vote():\n",
    "    print(f'{munim.name} is eligible to vote')\n",
    "else:\n",
    "    print(f'{munim.name} is not eligible to vote')\n"
   ]
  },
  {
   "cell_type": "code",
   "execution_count": 6,
   "metadata": {},
   "outputs": [
    {
     "name": "stdout",
     "output_type": "stream",
     "text": [
      "Name : Toyota,type: Car, Color: Red, Price: 1000000\n",
      "Toyota is running\n",
      "Name : Toyota,type: Car, Color: Red, Price: 1000000\n",
      "Toyota is running at 100 km/h\n"
     ]
    }
   ],
   "source": [
    "class Vehicle:\n",
    "    def __init__(self, name, type, color, price):\n",
    "        self.name = name\n",
    "        self.type = type\n",
    "        self.color = color\n",
    "        self.price = price\n",
    "\n",
    "    def display(self):\n",
    "        print(f'Name : {self.name},type: {self.type}, Color: {self.color}, Price: {self.price}')\n",
    "\n",
    "    def run(self):\n",
    "        print(f'{self.name} is running')\n",
    "\n",
    "class Car(Vehicle):\n",
    "    def __init__(self, name, color, price):\n",
    "        super().__init__(name, 'Car', color, price)\n",
    "\n",
    "    def run(self):\n",
    "        print(f'{self.name} is running at 100 km/h')\n",
    "\n",
    "vehicle1 = Vehicle('Toyota', 'Car', 'Red', 1000000)\n",
    "vehicle1.display()\n",
    "vehicle1.run()\n",
    "\n",
    "\n",
    "car1 = Car('Toyota', 'Red', 1000000)\n",
    "car1.display()\n",
    "car1.run()"
   ]
  }
 ],
 "metadata": {
  "kernelspec": {
   "display_name": "Python 3",
   "language": "python",
   "name": "python3"
  },
  "language_info": {
   "codemirror_mode": {
    "name": "ipython",
    "version": 3
   },
   "file_extension": ".py",
   "mimetype": "text/x-python",
   "name": "python",
   "nbconvert_exporter": "python",
   "pygments_lexer": "ipython3",
   "version": "3.12.5"
  }
 },
 "nbformat": 4,
 "nbformat_minor": 2
}
